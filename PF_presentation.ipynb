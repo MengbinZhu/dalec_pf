{
 "cells": [
  {
   "cell_type": "markdown",
   "metadata": {
    "slideshow": {
     "slide_type": "slide"
    }
   },
   "source": [
    "# Assimilating EO data into an ecosystem model with a particle filter "
   ]
  },
  {
   "cell_type": "markdown",
   "metadata": {
    "slideshow": {
     "slide_type": "slide"
    }
   },
   "source": [
    "* The aim of today's practical is to explore the blending of **observations** and **models**\n",
    "* You will use the **DALEC ecosystem model**, that tracks the fate of C through photosynthesis, biomass allocation and decomposition.\n",
    "* We will use **observations of LAI** from space-borne sensors to keep the model in track\n",
    "* The observations will be combined with the model using a type of **particle filter** (a **sequential Metropolis-Hastings filter**)\n",
    "* We will focus on the Metolius Young Pine FLUXNET site, and will compare assimilation results to flux tower data.\n"
   ]
  },
  {
   "cell_type": "markdown",
   "metadata": {
    "slideshow": {
     "slide_type": "slide"
    }
   },
   "source": [
    "## The DALEC model"
   ]
  },
  {
   "cell_type": "markdown",
   "metadata": {
    "slideshow": {
     "slide_type": "slide"
    }
   },
   "source": [
    "The DALEC model is a simple box model of C cycling.\n",
    "![DALEC](http://ars.els-cdn.com/content/image/1-s2.0-S0034425707003276-gr2.jpg)"
   ]
  },
  {
   "cell_type": "markdown",
   "metadata": {
    "slideshow": {
     "slide_type": "slide"
    }
   },
   "source": [
    "1. Carbon is acquired through the GPP box, which uses the very simple ACM model to model photosynthesis as a function of $LAI$, and temperature, incoming radiation, $CO_2$ concentration and VPD.\n",
    "2. Part of the GPP is lost as **autototrophic respiration**, to get NPP.\n",
    "3. The NPP is allocated to the **foliar**, **woody** and **roots** pools.\n",
    "4. The foliar and root pools loose C to the **litter** pool.\n",
    "5. The woody biomass pool looses C to the **SOM/Woody debris** pool.\n",
    "6. The litter pool decomposes into the **SOM** pool\n",
    "7. Both **litter** and **SOM** pools release C back to the atmopshere through microbial activity and **heterotrophic respiration**"
   ]
  },
  {
   "cell_type": "markdown",
   "metadata": {
    "slideshow": {
     "slide_type": "slide"
    }
   },
   "source": [
    "* The DALEC model has been calibrated for the Metolius site\n",
    "* We have a fairly rough understanding of the different C pools at around 2000.\n",
    "* However, the DALEC model is **very simplistic**!!! \n",
    "* The idea is that this simple model can be made to track observations, and hence combine heterogeneous observational streams into a consistent story of what's happening to C."
   ]
  },
  {
   "cell_type": "markdown",
   "metadata": {
    "slideshow": {
     "slide_type": "slide"
    }
   },
   "source": [
    "## The MODIS observations"
   ]
  },
  {
   "cell_type": "markdown",
   "metadata": {
    "slideshow": {
     "slide_type": "slide"
    }
   },
   "source": [
    "* We will use the MODIS LAI product, which provides both an estimate of LAI and of uncertainty in LAI.\n",
    "* This product takes the **red** and **nir** reflectance, and maps them to LAI.\n",
    "* The uncertainty of the LAI product is controlled by things like cloudiness, snow, etc."
   ]
  },
  {
   "cell_type": "code",
   "execution_count": 6,
   "metadata": {
    "collapsed": false
   },
   "outputs": [
    {
     "data": {
      "text/plain": [
       "<matplotlib.text.Text at 0x2afee2539250>"
      ]
     },
     "execution_count": 6,
     "metadata": {},
     "output_type": "execute_result"
    },
    {
     "data": {
      "image/png": "[encoded data removed]",
      "text/plain": [
       "<matplotlib.figure.Figure at 0x2afee1f68fd0>"
      ]
     },
     "metadata": {},
     "output_type": "display_data"
    }
   ],
   "source": [
    "import numpy as np\n",
    "import matplotlib.pyplot as plt\n",
    "%matplotlib inline\n",
    "d=np.loadtxt(\"Metolius_MOD15_LAI.txt\")\n",
    "plt.figure(figsize=(10,10))\n",
    "x = np.arange( 166 )\n",
    "plt.plot ( x, d[:, 2], 'o' )\n",
    "plt.vlines ( x, d[:, 2] - d[:, 3], d[:, 2] + d[:, 3] )\n",
    "plt.xlabel(\"Observation time[-]\")\n",
    "plt.ylabel(r'LAI $m^2m^{-2}$')"
   ]
  },
  {
   "cell_type": "markdown",
   "metadata": {
    "slideshow": {
     "slide_type": "slide"
    }
   },
   "source": [
    "## The particle filter"
   ]
  },
  {
   "cell_type": "markdown",
   "metadata": {
    "slideshow": {
     "slide_type": "slide"
    }
   },
   "source": [
    "* We will use the Dowd 2007 **sequential MH PF**\n",
    "* The model of our dynamic system is given by \n",
    "\n",
    "\\begin{split}\n",
    "    \\mathbf{x}_{k+1} &= \\mathcal{M}(\\mathbf{x}_{k},I) + \\nu\\\\\n",
    "    \\mathbf{y}_{k+1} &=\\mathcal{H}(\\mathbf{x}_{k+1},S) + \\eta,\n",
    "\\end{split}\n",
    "\n",
    "* The first equation encodes the forward propagation of the state in time using the model\n",
    "* The second couples the state with the observations\n",
    "* We will couple the foliar C pool $C_f$ with observed LAI from MODIS, noting that they are related by the SLA (assumed known)."
   ]
  },
  {
   "cell_type": "markdown",
   "metadata": {
    "slideshow": {
     "slide_type": "slide"
    }
   },
   "source": [
    "\n",
    "* The filter propagates a number of *particles* that determine the state using the model, and addss a random forcing\n",
    "* **If** an observation is available, then particles which are able to better explain the observation (i.e., where the foliar C pool scaled by SLA is close to the observed LAI) will tend to dominate, whereas particles that are far from the LAI observation will tend to be rejected.\n",
    "* After a few iterations, the trajectory ought to start tracking the observations.\n",
    "\n",
    "![pf trajectory](http://jgomezdans.github.io/dalec_pf/pf_trajectories.png)"
   ]
  },
  {
   "cell_type": "code",
   "execution_count": null,
   "metadata": {
    "collapsed": true
   },
   "outputs": [],
   "source": []
  }
 ],
 "metadata": {
  "celltoolbar": "Slideshow",
  "kernelspec": {
   "display_name": "Python 2",
   "language": "python",
   "name": "python2"
  },
  "language_info": {
   "codemirror_mode": {
    "name": "ipython",
    "version": 2
   },
   "file_extension": ".py",
   "mimetype": "text/x-python",
   "name": "python",
   "nbconvert_exporter": "python",
   "pygments_lexer": "ipython2",
   "version": "2.7.9"
  }
 },
 "nbformat": 4,
 "nbformat_minor": 0
}
